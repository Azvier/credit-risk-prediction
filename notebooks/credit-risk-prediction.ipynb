{
 "cells": [
  {
   "cell_type": "code",
   "execution_count": 1,
   "id": "38bbd95d",
   "metadata": {},
   "outputs": [],
   "source": [
    "import pandas as pd"
   ]
  },
  {
   "cell_type": "code",
   "execution_count": 2,
   "id": "4dac12a8",
   "metadata": {},
   "outputs": [],
   "source": [
    "df = pd.read_csv(r'../datasets/Credit Risk Benchmark Dataset.csv')"
   ]
  },
  {
   "cell_type": "markdown",
   "id": "1ef29f6b",
   "metadata": {},
   "source": [
    "# Exploratory Data Analysis (EDA)"
   ]
  },
  {
   "cell_type": "code",
   "execution_count": 10,
   "id": "c2c8d4f1",
   "metadata": {},
   "outputs": [
    {
     "name": "stdout",
     "output_type": "stream",
     "text": [
      "   rev_util   age  late_30_59  debt_ratio  monthly_inc  open_credit  late_90  \\\n",
      "0  0.006999  38.0         0.0    0.302150       5440.0          4.0      0.0   \n",
      "1  0.704592  63.0         0.0    0.471441       8000.0          9.0      0.0   \n",
      "2  0.063113  57.0         0.0    0.068586       5000.0         17.0      0.0   \n",
      "3  0.368397  68.0         0.0    0.296273       6250.0         16.0      0.0   \n",
      "4  1.000000  34.0         1.0    0.000000       3500.0          0.0      0.0   \n",
      "\n",
      "   real_estate  late_60_89  dependents  dlq_2yrs  \n",
      "0          1.0         0.0         3.0         0  \n",
      "1          1.0         0.0         0.0         0  \n",
      "2          0.0         0.0         0.0         0  \n",
      "3          2.0         0.0         0.0         0  \n",
      "4          0.0         0.0         1.0         0  \n"
     ]
    }
   ],
   "source": [
    "print(df.head())"
   ]
  },
  {
   "cell_type": "code",
   "execution_count": 8,
   "id": "1d007b26",
   "metadata": {},
   "outputs": [
    {
     "name": "stdout",
     "output_type": "stream",
     "text": [
      "<class 'pandas.core.frame.DataFrame'>\n",
      "RangeIndex: 16714 entries, 0 to 16713\n",
      "Data columns (total 11 columns):\n",
      " #   Column       Non-Null Count  Dtype  \n",
      "---  ------       --------------  -----  \n",
      " 0   rev_util     16714 non-null  float64\n",
      " 1   age          16714 non-null  float64\n",
      " 2   late_30_59   16714 non-null  float64\n",
      " 3   debt_ratio   16714 non-null  float64\n",
      " 4   monthly_inc  16714 non-null  float64\n",
      " 5   open_credit  16714 non-null  float64\n",
      " 6   late_90      16714 non-null  float64\n",
      " 7   real_estate  16714 non-null  float64\n",
      " 8   late_60_89   16714 non-null  float64\n",
      " 9   dependents   16714 non-null  float64\n",
      " 10  dlq_2yrs     16714 non-null  int64  \n",
      "dtypes: float64(10), int64(1)\n",
      "memory usage: 1.4 MB\n",
      "None\n"
     ]
    }
   ],
   "source": [
    "print(df.info(show_counts=True))"
   ]
  },
  {
   "cell_type": "code",
   "execution_count": 9,
   "id": "85554478",
   "metadata": {},
   "outputs": [
    {
     "name": "stdout",
     "output_type": "stream",
     "text": [
      "           rev_util           age    late_30_59    debt_ratio    monthly_inc  \\\n",
      "count  16714.000000  16714.000000  16714.000000  16714.000000   16714.000000   \n",
      "mean       4.799862     48.798672      1.110267     30.980298    6118.120258   \n",
      "std      204.062345     13.906078      7.172890    719.694859    5931.841779   \n",
      "min        0.000000     21.000000      0.000000      0.000000       0.000000   \n",
      "25%        0.082397     38.000000      0.000000      0.155971    3128.500000   \n",
      "50%        0.443080     48.000000      0.000000      0.322299    5000.000000   \n",
      "75%        0.926637     58.000000      1.000000      0.533426    7573.000000   \n",
      "max    22000.000000    101.000000     98.000000  61106.500000  250000.000000   \n",
      "\n",
      "        open_credit       late_90   real_estate    late_60_89    dependents  \\\n",
      "count  16714.000000  16714.000000  16714.000000  16714.000000  16714.000000   \n",
      "mean       8.503709      0.863827      1.047445      0.734354      0.944358   \n",
      "std        5.370965      7.167576      1.272565      7.138737      1.198791   \n",
      "min        0.000000      0.000000      0.000000      0.000000      0.000000   \n",
      "25%        5.000000      0.000000      0.000000      0.000000      0.000000   \n",
      "50%        8.000000      0.000000      1.000000      0.000000      0.000000   \n",
      "75%       11.000000      0.000000      2.000000      0.000000      2.000000   \n",
      "max       57.000000     98.000000     29.000000     98.000000      8.000000   \n",
      "\n",
      "           dlq_2yrs  \n",
      "count  16714.000000  \n",
      "mean       0.500000  \n",
      "std        0.500015  \n",
      "min        0.000000  \n",
      "25%        0.000000  \n",
      "50%        0.500000  \n",
      "75%        1.000000  \n",
      "max        1.000000  \n"
     ]
    }
   ],
   "source": [
    "print(df.describe(include='all'))"
   ]
  },
  {
   "cell_type": "code",
   "execution_count": 12,
   "id": "fd9762af",
   "metadata": {},
   "outputs": [
    {
     "name": "stdout",
     "output_type": "stream",
     "text": [
      "Data types after conversion:\n",
      "rev_util       float64\n",
      "age              int64\n",
      "late_30_59       int64\n",
      "debt_ratio     float64\n",
      "monthly_inc    float64\n",
      "open_credit      int64\n",
      "late_90          int64\n",
      "real_estate      int64\n",
      "late_60_89       int64\n",
      "dependents       int64\n",
      "dlq_2yrs         int64\n",
      "dtype: object\n"
     ]
    }
   ],
   "source": [
    "# List of columns that are counts and should be integers\n",
    "int_cols = ['age', 'late_30_59', 'open_credit', 'late_90', \n",
    "            'real_estate', 'late_60_89', 'dependents']\n",
    "\n",
    "# Change data types for memory efficiency and semantic correctness\n",
    "for col in int_cols:\n",
    "    df[col] = df[col].astype(int)\n",
    "\n",
    "print(\"Data types after conversion:\")\n",
    "print(df.dtypes)"
   ]
  }
 ],
 "metadata": {
  "kernelspec": {
   "display_name": "credit-risk-prediction-3.12",
   "language": "python",
   "name": "python3"
  },
  "language_info": {
   "codemirror_mode": {
    "name": "ipython",
    "version": 3
   },
   "file_extension": ".py",
   "mimetype": "text/x-python",
   "name": "python",
   "nbconvert_exporter": "python",
   "pygments_lexer": "ipython3",
   "version": "3.12.10"
  }
 },
 "nbformat": 4,
 "nbformat_minor": 5
}
